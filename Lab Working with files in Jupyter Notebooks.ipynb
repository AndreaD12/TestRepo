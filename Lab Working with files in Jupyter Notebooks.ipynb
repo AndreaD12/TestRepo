{
  "metadata": {
    "kernelspec": {
      "name": "python",
      "display_name": "Python (Pyodide)",
      "language": "python"
    },
    "language_info": {
      "codemirror_mode": {
        "name": "python",
        "version": 3
      },
      "file_extension": ".py",
      "mimetype": "text/x-python",
      "name": "python",
      "nbconvert_exporter": "python",
      "pygments_lexer": "ipython3",
      "version": "3.8"
    }
  },
  "nbformat_minor": 5,
  "nbformat": 4,
  "cells": [
    {
      "id": "05dd92da-b2fc-4ca9-bcd5-7d69d613366c",
      "cell_type": "markdown",
      "source": "# Data Science Tools and Ecosystem",
      "metadata": {}
    },
    {
      "id": "08b3f435-98c0-4a1f-8b85-bf6a718b81ac",
      "cell_type": "markdown",
      "source": "In this notebook, Data Science Tools and Ecosystem are summarized.",
      "metadata": {}
    },
    {
      "id": "408c090f-d95a-4bba-9642-32041e874967",
      "cell_type": "markdown",
      "source": "**Objectives:**\n+ List popular languages for Data Science\n+ Some Libraries for Data Science\n+ Data Science tolls",
      "metadata": {}
    },
    {
      "id": "4963cf33-902c-49e6-b953-9e45f0e9ca15",
      "cell_type": "markdown",
      "source": "Some of the popular languages that Data Scientists use are:\n1. Python\n2. Java\n3. RStudio ",
      "metadata": {}
    },
    {
      "id": "603fdb80-5038-4530-8a32-d5f53668acc9",
      "cell_type": "markdown",
      "source": "Some of the commonly used libraries used by Data Scientists include:\n1. Pandas\n2. Matplotlib\n3. Scikit-learn",
      "metadata": {}
    },
    {
      "id": "938e5096-41cd-4be2-a4a8-5798f15d503e",
      "cell_type": "markdown",
      "source": "|Data Science Tools  |\n|----------------------|\n| RStudio              |\n| Watson Studio        |\n| Jupyter Notebooks    |\n",
      "metadata": {}
    },
    {
      "id": "76b106bf-da96-4971-a0ac-700397818fe8",
      "cell_type": "markdown",
      "source": "Below are a few examples of evaluating arithmetic expressions in Python",
      "metadata": {}
    },
    {
      "id": "d8a85fc2-b58d-48c3-8772-1f31acb27e13",
      "cell_type": "code",
      "source": "#This a simple arithmetic expression to mutiply then add integers\n(3*4)+5",
      "metadata": {
        "trusted": true
      },
      "outputs": [
        {
          "execution_count": 2,
          "output_type": "execute_result",
          "data": {
            "text/plain": "17"
          },
          "metadata": {}
        }
      ],
      "execution_count": 2
    },
    {
      "id": "7f055d85-62d9-4818-9d10-46b81914cd39",
      "cell_type": "code",
      "source": "#This will convert 200 minutes to hours by diving by 60\n200/6",
      "metadata": {
        "trusted": true
      },
      "outputs": [
        {
          "execution_count": 5,
          "output_type": "execute_result",
          "data": {
            "text/plain": "33.333333333333336"
          },
          "metadata": {}
        }
      ],
      "execution_count": 5
    },
    {
      "id": "e15cdebe-2565-4dce-822a-e6991c938a3f",
      "cell_type": "markdown",
      "source": "## Author\nAndrea Martinez Diaz",
      "metadata": {}
    },
    {
      "id": "c4b2bc23-6083-480a-96b4-7792a3d265c5",
      "cell_type": "code",
      "source": "",
      "metadata": {
        "trusted": true
      },
      "outputs": [],
      "execution_count": null
    }
  ]
}